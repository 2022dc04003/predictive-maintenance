{
 "cells": [
  {
   "cell_type": "code",
   "id": "initial_id",
   "metadata": {
    "collapsed": true,
    "ExecuteTime": {
     "end_time": "2024-05-01T07:52:30.595329Z",
     "start_time": "2024-05-01T07:52:30.499855Z"
    }
   },
   "source": [
    "from boto3 import Session\n",
    "import botocore\n",
    "import os"
   ],
   "outputs": [],
   "execution_count": 1
  },
  {
   "metadata": {
    "ExecuteTime": {
     "end_time": "2024-05-01T07:52:30.601516Z",
     "start_time": "2024-05-01T07:52:30.596544Z"
    }
   },
   "cell_type": "code",
   "source": "%pwd",
   "id": "c3413c3749cb791e",
   "outputs": [
    {
     "data": {
      "text/plain": [
       "'/Users/saptarshi/BITS/dissertation/project/predictive-maintenance/research'"
      ]
     },
     "execution_count": 2,
     "metadata": {},
     "output_type": "execute_result"
    }
   ],
   "execution_count": 2
  },
  {
   "metadata": {
    "ExecuteTime": {
     "end_time": "2024-05-01T07:52:30.606147Z",
     "start_time": "2024-05-01T07:52:30.602443Z"
    }
   },
   "cell_type": "code",
   "source": [
    "os.chdir('../')\n",
    "%pwd"
   ],
   "id": "3a410822e57c4322",
   "outputs": [
    {
     "data": {
      "text/plain": [
       "'/Users/saptarshi/BITS/dissertation/project/predictive-maintenance'"
      ]
     },
     "execution_count": 3,
     "metadata": {},
     "output_type": "execute_result"
    }
   ],
   "execution_count": 3
  },
  {
   "metadata": {
    "ExecuteTime": {
     "end_time": "2024-05-01T07:52:30.611339Z",
     "start_time": "2024-05-01T07:52:30.608278Z"
    }
   },
   "cell_type": "code",
   "source": [
    "from dataclasses import dataclass\n",
    "from pathlib import Path\n",
    "\n",
    "@dataclass(frozen=True)\n",
    "class DataIngestionConfig:\n",
    "    root_dir: Path\n",
    "    source_bucket: str\n",
    "    source_object_key: str\n",
    "    local_data_file: Path\n",
    "    unzip_dir: Path\n"
   ],
   "id": "de2733356e0d750a",
   "outputs": [],
   "execution_count": 4
  },
  {
   "metadata": {
    "ExecuteTime": {
     "end_time": "2024-05-01T07:52:30.818996Z",
     "start_time": "2024-05-01T07:52:30.612782Z"
    }
   },
   "cell_type": "code",
   "source": [
    "from linear_regressor.constants import *\n",
    "from linear_regressor.utils.commons import *\n",
    "\n",
    "class ConfigurationManager:\n",
    "    def __init__(self, config_file_path = CONFIG_FILE_PATH, params_file_path = PARAMS_FILE_PATH):\n",
    "        self.config = load_yaml(config_file_path)\n",
    "        self.params = load_yaml(params_file_path)\n",
    "        create_directories(\n",
    "            [self.config.artifacts_root, self.config.data_ingestion.root_dir, self.config.data_ingestion.unzip_dir]\n",
    "        )\n",
    "\n",
    "    def get_data_ingestion_config(self) -> DataIngestionConfig:\n",
    "        data_ingestion_config = DataIngestionConfig(\n",
    "            root_dir = self.config.data_ingestion.root_dir,\n",
    "            source_bucket=self.config.data_ingestion.source_bucket,\n",
    "            source_object_key=self.config.data_ingestion.source_object_key,\n",
    "            local_data_file=self.config.data_ingestion.local_data_file,\n",
    "            unzip_dir=self.config.data_ingestion.unzip_dir\n",
    "        )\n",
    "        return data_ingestion_config\n"
   ],
   "id": "2cc29e7b9e874860",
   "outputs": [],
   "execution_count": 5
  },
  {
   "metadata": {
    "ExecuteTime": {
     "end_time": "2024-05-01T07:52:30.840605Z",
     "start_time": "2024-05-01T07:52:30.820793Z"
    }
   },
   "cell_type": "code",
   "source": [
    "from linear_regressor import logger\n",
    "import zipfile\n",
    "\n",
    "class DataIngestion:\n",
    "    def __init__(self, config: DataIngestionConfig):\n",
    "        self.config = config\n",
    "\n",
    "    def download_data(self):\n",
    "        session = Session()\n",
    "        s3 = session.resource('s3')\n",
    "\n",
    "        try:\n",
    "            bucket = self.config.source_bucket\n",
    "            object_key = self.config.source_object_key\n",
    "            local_file = self.config.local_data_file\n",
    "            s3.Bucket(bucket).download_file(object_key, local_file)\n",
    "            logger.info(f'Raw data downloaded from s3://{bucket}/{object_key} to {local_file}')\n",
    "        except botocore.exceptions.ClientError as e:\n",
    "            if e.response['Error']['Code'] == \"404\":\n",
    "                print(\"The object does not exist.\")\n",
    "\n",
    "    def extract_data(self, delete_zip=False):\n",
    "        local_file = self.config.local_data_file\n",
    "        unzip_path = self.config.unzip_dir\n",
    "\n",
    "        with zipfile.ZipFile(local_file, 'r') as zip_ref:\n",
    "            zip_ref.extractall(unzip_path)\n",
    "            logger.info(f'Data successfully extracted from: {local_file}')\n",
    "    \n",
    "        if delete_zip:\n",
    "            os.remove(local_file)\n",
    "            logger.info(f'Zip file: {local_file} deleted')\n",
    "    \n",
    "    "
   ],
   "id": "22a1d43d47255dc1",
   "outputs": [],
   "execution_count": 6
  },
  {
   "metadata": {
    "ExecuteTime": {
     "end_time": "2024-05-01T07:52:32.336647Z",
     "start_time": "2024-05-01T07:52:30.847746Z"
    }
   },
   "cell_type": "code",
   "source": [
    "try:\n",
    "    config = ConfigurationManager()\n",
    "    data_ingestion_config = config.get_data_ingestion_config()\n",
    "    data_ingestion = DataIngestion(config=data_ingestion_config)\n",
    "    data_ingestion.download_data()\n",
    "    data_ingestion.extract_data(delete_zip=True)\n",
    "except Exception as e:\n",
    "    raise e\n"
   ],
   "id": "d5fcb4a0d258b8f9",
   "outputs": [
    {
     "name": "stdout",
     "output_type": "stream",
     "text": [
      "2024-05-01 13:22:30,852: INFO: commons: yaml file: config/config.yaml loaded successfully\n",
      "2024-05-01 13:22:30,854: INFO: commons: yaml file: params.yaml loaded successfully\n",
      "2024-05-01 13:22:30,855: INFO: commons: Created directory at: artifacts\n",
      "2024-05-01 13:22:30,856: INFO: commons: Created directory at: artifacts/data_ingestion\n",
      "2024-05-01 13:22:30,857: INFO: commons: Created directory at: artifacts/data_ingestion\n",
      "2024-05-01 13:22:32,291: INFO: 3343967143: Raw data downloaded from s3://mlflow-bucket-predictive-maintenance/raw_data/train_FD004.txt.zip to artifacts/data_ingestion/train_FD004.txt.zip\n",
      "2024-05-01 13:22:32,334: INFO: 3343967143: Data successfully extracted from artifacts/data_ingestion/train_FD004.txt.zip\n",
      "2024-05-01 13:22:32,335: INFO: 3343967143: Zip file artifacts/data_ingestion/train_FD004.txt.zip deleted\n"
     ]
    }
   ],
   "execution_count": 7
  },
  {
   "metadata": {
    "ExecuteTime": {
     "end_time": "2024-05-01T07:52:32.339416Z",
     "start_time": "2024-05-01T07:52:32.337727Z"
    }
   },
   "cell_type": "code",
   "source": "",
   "id": "24c777c1b64fad67",
   "outputs": [],
   "execution_count": 7
  }
 ],
 "metadata": {
  "kernelspec": {
   "display_name": "Python 3",
   "language": "python",
   "name": "python3"
  },
  "language_info": {
   "codemirror_mode": {
    "name": "ipython",
    "version": 2
   },
   "file_extension": ".py",
   "mimetype": "text/x-python",
   "name": "python",
   "nbconvert_exporter": "python",
   "pygments_lexer": "ipython2",
   "version": "2.7.6"
  }
 },
 "nbformat": 4,
 "nbformat_minor": 5
}
